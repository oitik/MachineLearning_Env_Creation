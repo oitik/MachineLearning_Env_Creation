{
 "cells": [
  {
   "cell_type": "markdown",
   "id": "dde15faa",
   "metadata": {
    "papermill": {
     "duration": 0.01138,
     "end_time": "2023-05-17T08:06:20.178286",
     "exception": false,
     "start_time": "2023-05-17T08:06:20.166906",
     "status": "completed"
    },
    "tags": []
   },
   "source": [
    "# Predicting the rating of a movie using machine learning algorithm.\n",
    "\n",
    "In this notebook, we're going to go through an example machine learning project with the goal of predicting the rating of a movie.\n",
    "\n",
    "## 1.Problem definition\n",
    "\n",
    " Movie rating prediction based on review using machine learning & deep learning model\n",
    "\n",
    "## 2.Data\n",
    "\n",
    "This data set is downloaded from IMDb movie reviews dataset.\n",
    "\n",
    "Link: https://ieee-dataport.org/open-access/imdb-movie-reviews-dataset\n",
    "\n",
    "### Primary Target:\n",
    "Predict rating of one movie’s rating based on data.\n",
    "\n",
    "### Further Target:\n",
    "Predict rating of different movies.\n",
    "\n",
    "\n",
    "\n",
    "## 3.Steps\n",
    "Step1: download the data and there will be a lot of movie’s csv file where we need to extract review and rating.\n",
    "\n",
    "Step2: after extracting feature we need to apply world embedding process to create train and test data.\n",
    "Word embedding process:\n",
    "\n",
    "* 1.https://www.turing.com/kb/guide-on-word-embeddings-in-nlp\n",
    "* 2.https://www.geeksforgeeks.org/word-embeddings-in-nlp/\n",
    "* 3.https://towardsdatascience.com/introduction-to-word-embedding-and-word2vec-652d0c2060fa\n",
    "* 4.https://machinelearningmastery.com/what-are-word-embeddings/\n",
    "\n",
    "## 4.Modeling\n",
    "\n",
    "Design models using machine learning algorithms:\n",
    "\n",
    "    1. Use ML algorithms like SVM\n",
    "    2. Use RNN model like LSTM\n",
    "\n",
    "## 5. Evaluating\n",
    "\n",
    "## 6. Improving\n",
    "\n",
    "Imporving machine learning model using:\n",
    "\n",
    "* `Grid Search CV`\n",
    "\n",
    " "
   ]
  },
  {
   "cell_type": "code",
   "execution_count": 1,
   "id": "a360f7fb",
   "metadata": {
    "_cell_guid": "b1076dfc-b9ad-4769-8c92-a6c4dae69d19",
    "_uuid": "8f2839f25d086af736a60e9eeb907d3b93b6e0e5",
    "execution": {
     "iopub.execute_input": "2023-05-17T08:06:20.201591Z",
     "iopub.status.busy": "2023-05-17T08:06:20.200877Z",
     "iopub.status.idle": "2023-05-17T08:06:20.221600Z",
     "shell.execute_reply": "2023-05-17T08:06:20.220459Z"
    },
    "papermill": {
     "duration": 0.035266,
     "end_time": "2023-05-17T08:06:20.224129",
     "exception": false,
     "start_time": "2023-05-17T08:06:20.188863",
     "status": "completed"
    },
    "tags": []
   },
   "outputs": [
    {
     "name": "stdout",
     "output_type": "stream",
     "text": [
      "/kaggle/input/dataset/3 Idiots 2009.csv\n",
      "/kaggle/input/dataset/8 Mile 2002.csv\n"
     ]
    }
   ],
   "source": [
    "# This Python 3 environment comes with many helpful analytics libraries installed\n",
    "# It is defined by the kaggle/python Docker image: https://github.com/kaggle/docker-python\n",
    "# For example, here's several helpful packages to load\n",
    "\n",
    "import numpy as np # linear algebra\n",
    "import pandas as pd # data processing, CSV file I/O (e.g. pd.read_csv)\n",
    "\n",
    "# Input data files are available in the read-only \"../input/\" directory\n",
    "# For example, running this (by clicking run or pressing Shift+Enter) will list all files under the input directory\n",
    "\n",
    "import os\n",
    "for dirname, _, filenames in os.walk('/kaggle/input'):\n",
    "    for filename in filenames:\n",
    "        print(os.path.join(dirname, filename))\n",
    "\n",
    "# You can write up to 20GB to the current directory (/kaggle/working/) that gets preserved as output when you create a version using \"Save & Run All\" \n",
    "# You can also write temporary files to /kaggle/temp/, but they won't be saved outside of the current session"
   ]
  },
  {
   "cell_type": "markdown",
   "id": "d6f38970",
   "metadata": {
    "execution": {
     "iopub.execute_input": "2023-05-17T06:56:44.261909Z",
     "iopub.status.busy": "2023-05-17T06:56:44.261441Z",
     "iopub.status.idle": "2023-05-17T06:56:44.270264Z",
     "shell.execute_reply": "2023-05-17T06:56:44.268471Z",
     "shell.execute_reply.started": "2023-05-17T06:56:44.261866Z"
    },
    "papermill": {
     "duration": 0.01002,
     "end_time": "2023-05-17T08:06:20.244223",
     "exception": false,
     "start_time": "2023-05-17T08:06:20.234203",
     "status": "completed"
    },
    "tags": []
   },
   "source": [
    "### Preparing the tools:\n",
    "\n",
    "We're going to use `pandas` `numpy` `matplotlib` for data manipulation and analysis."
   ]
  },
  {
   "cell_type": "code",
   "execution_count": 2,
   "id": "14f99794",
   "metadata": {
    "execution": {
     "iopub.execute_input": "2023-05-17T08:06:20.265827Z",
     "iopub.status.busy": "2023-05-17T08:06:20.265404Z",
     "iopub.status.idle": "2023-05-17T08:06:20.272649Z",
     "shell.execute_reply": "2023-05-17T08:06:20.271398Z"
    },
    "papermill": {
     "duration": 0.0209,
     "end_time": "2023-05-17T08:06:20.274975",
     "exception": false,
     "start_time": "2023-05-17T08:06:20.254075",
     "status": "completed"
    },
    "tags": []
   },
   "outputs": [],
   "source": [
    "# Import all the tools we need\n",
    "\n",
    "\n",
    "# Regular EDA(exploratory data analysis) and plotting libraries\n",
    "import numpy as np\n",
    "import pandas as pd\n",
    "import matplotlib.pyplot as plt\n",
    "\n",
    "\n",
    "%matplotlib inline\n",
    "\n"
   ]
  },
  {
   "cell_type": "markdown",
   "id": "a7b71602",
   "metadata": {
    "execution": {
     "iopub.execute_input": "2023-05-17T06:57:56.182474Z",
     "iopub.status.busy": "2023-05-17T06:57:56.181848Z",
     "iopub.status.idle": "2023-05-17T06:57:56.192964Z",
     "shell.execute_reply": "2023-05-17T06:57:56.190691Z",
     "shell.execute_reply.started": "2023-05-17T06:57:56.182425Z"
    },
    "papermill": {
     "duration": 0.010141,
     "end_time": "2023-05-17T08:06:20.295169",
     "exception": false,
     "start_time": "2023-05-17T08:06:20.285028",
     "status": "completed"
    },
    "tags": []
   },
   "source": [
    "## Load Data\n",
    "\n",
    "Load the data from directory"
   ]
  },
  {
   "cell_type": "code",
   "execution_count": 3,
   "id": "3eddd729",
   "metadata": {
    "execution": {
     "iopub.execute_input": "2023-05-17T08:06:20.317799Z",
     "iopub.status.busy": "2023-05-17T08:06:20.316345Z",
     "iopub.status.idle": "2023-05-17T08:06:20.372911Z",
     "shell.execute_reply": "2023-05-17T08:06:20.371908Z"
    },
    "papermill": {
     "duration": 0.070479,
     "end_time": "2023-05-17T08:06:20.375457",
     "exception": false,
     "start_time": "2023-05-17T08:06:20.304978",
     "status": "completed"
    },
    "tags": []
   },
   "outputs": [],
   "source": [
    "df = pd.read_csv('/kaggle/input/dataset/3 Idiots 2009.csv')"
   ]
  },
  {
   "cell_type": "code",
   "execution_count": 4,
   "id": "ef75a909",
   "metadata": {
    "execution": {
     "iopub.execute_input": "2023-05-17T08:06:20.398130Z",
     "iopub.status.busy": "2023-05-17T08:06:20.396935Z",
     "iopub.status.idle": "2023-05-17T08:06:20.430643Z",
     "shell.execute_reply": "2023-05-17T08:06:20.429515Z"
    },
    "papermill": {
     "duration": 0.048074,
     "end_time": "2023-05-17T08:06:20.433492",
     "exception": false,
     "start_time": "2023-05-17T08:06:20.385418",
     "status": "completed"
    },
    "tags": []
   },
   "outputs": [
    {
     "data": {
      "text/html": [
       "<div>\n",
       "<style scoped>\n",
       "    .dataframe tbody tr th:only-of-type {\n",
       "        vertical-align: middle;\n",
       "    }\n",
       "\n",
       "    .dataframe tbody tr th {\n",
       "        vertical-align: top;\n",
       "    }\n",
       "\n",
       "    .dataframe thead th {\n",
       "        text-align: right;\n",
       "    }\n",
       "</style>\n",
       "<table border=\"1\" class=\"dataframe\">\n",
       "  <thead>\n",
       "    <tr style=\"text-align: right;\">\n",
       "      <th></th>\n",
       "      <th>username</th>\n",
       "      <th>rating</th>\n",
       "      <th>helpful</th>\n",
       "      <th>total</th>\n",
       "      <th>date</th>\n",
       "      <th>title</th>\n",
       "      <th>review</th>\n",
       "    </tr>\n",
       "  </thead>\n",
       "  <tbody>\n",
       "    <tr>\n",
       "      <th>0</th>\n",
       "      <td>MartinHafer</td>\n",
       "      <td>10</td>\n",
       "      <td>264</td>\n",
       "      <td>313</td>\n",
       "      <td>2 June 2011</td>\n",
       "      <td>Wonderfully entertaining.\\n</td>\n",
       "      <td>It's hard for me to review this film, as I hav...</td>\n",
       "    </tr>\n",
       "    <tr>\n",
       "      <th>1</th>\n",
       "      <td>reedcom</td>\n",
       "      <td>9</td>\n",
       "      <td>350</td>\n",
       "      <td>423</td>\n",
       "      <td>20 November 2011</td>\n",
       "      <td>Wow this American loves this movie\\n</td>\n",
       "      <td>I asked my co-workers to recommend a Bollywood...</td>\n",
       "    </tr>\n",
       "    <tr>\n",
       "      <th>2</th>\n",
       "      <td>vvv832</td>\n",
       "      <td>10</td>\n",
       "      <td>140</td>\n",
       "      <td>170</td>\n",
       "      <td>19 February 2011</td>\n",
       "      <td>^_^The best film reflecting Asia's education ...</td>\n",
       "      <td>As many ordinary Chinese high school students,...</td>\n",
       "    </tr>\n",
       "  </tbody>\n",
       "</table>\n",
       "</div>"
      ],
      "text/plain": [
       "      username rating  helpful  total              date  \\\n",
       "0  MartinHafer     10      264    313       2 June 2011   \n",
       "1      reedcom      9      350    423  20 November 2011   \n",
       "2       vvv832     10      140    170  19 February 2011   \n",
       "\n",
       "                                               title  \\\n",
       "0                        Wonderfully entertaining.\\n   \n",
       "1               Wow this American loves this movie\\n   \n",
       "2   ^_^The best film reflecting Asia's education ...   \n",
       "\n",
       "                                              review  \n",
       "0  It's hard for me to review this film, as I hav...  \n",
       "1  I asked my co-workers to recommend a Bollywood...  \n",
       "2  As many ordinary Chinese high school students,...  "
      ]
     },
     "execution_count": 4,
     "metadata": {},
     "output_type": "execute_result"
    }
   ],
   "source": [
    "df.head(3)"
   ]
  },
  {
   "cell_type": "code",
   "execution_count": 5,
   "id": "7e818d77",
   "metadata": {
    "execution": {
     "iopub.execute_input": "2023-05-17T08:06:20.457323Z",
     "iopub.status.busy": "2023-05-17T08:06:20.456094Z",
     "iopub.status.idle": "2023-05-17T08:06:20.465512Z",
     "shell.execute_reply": "2023-05-17T08:06:20.464160Z"
    },
    "papermill": {
     "duration": 0.024088,
     "end_time": "2023-05-17T08:06:20.467960",
     "exception": false,
     "start_time": "2023-05-17T08:06:20.443872",
     "status": "completed"
    },
    "tags": []
   },
   "outputs": [
    {
     "data": {
      "text/plain": [
       "'It\\'s hard for me to review this film, as I have not seen a huge number of Indian films--probably no more than a couple dozen. Most of the ones I\\'ve seen were wonderfully entertaining but I am far from an expert on Bollywood. Because of this, I have a hard time knowing how good this film is relative to other films from this country. So, consider this when you read this review. This may be among the very best India has to offer or it just seems that way to me.<br/><br/>Like so many Indian films, this is a very, very long film--with a run-time of almost three hours. When a movie is bad or just okay, this can seem like forever, but since \"3 Idiots\" is a very, very good film I loved its length. And, like most films of the genre, it has its share of the usual singing and dancing so foreign to films from other countries. One thing you should know, however, is that defining the type of film it is isn\\'t really easy. Much of it is a comedy, but it also has many poignant moments (keep the Kleenex nearby), some existential moments where they explore the meaning of life and work and it\\'s also a tender film about friendship. And, as my daughter pointed out when she saw the film, she loved that the men in the movie are not afraid to cry--something you rarely see in western films.<br/><br/>As for the plot, it\\'s very long and involved and I could recount what occurs. But I don\\'t want to spoil a single wonderful moment, so my advice is just sit back and watch--and if you give it a chance, I can almost guarantee you\\'ll have a great time with this poignant and funny film. Wonderful and well worth your time--with a delightful script, wonderful characters and lots of moments that made me smile...and a few that brought me to tears. See this film.'"
      ]
     },
     "execution_count": 5,
     "metadata": {},
     "output_type": "execute_result"
    }
   ],
   "source": [
    "test = df.review[0]\n",
    "test"
   ]
  },
  {
   "cell_type": "markdown",
   "id": "709ed9e5",
   "metadata": {
    "papermill": {
     "duration": 0.010318,
     "end_time": "2023-05-17T08:06:20.488915",
     "exception": false,
     "start_time": "2023-05-17T08:06:20.478597",
     "status": "completed"
    },
    "tags": []
   },
   "source": [
    "## Cleaning up the text \n",
    "\n",
    "using python `replace()` function to replce the unnecessary things.\n",
    "\n",
    "A function to clean a paragraph."
   ]
  },
  {
   "cell_type": "code",
   "execution_count": 6,
   "id": "8b0bf038",
   "metadata": {
    "execution": {
     "iopub.execute_input": "2023-05-17T08:06:20.511856Z",
     "iopub.status.busy": "2023-05-17T08:06:20.511424Z",
     "iopub.status.idle": "2023-05-17T08:06:20.518224Z",
     "shell.execute_reply": "2023-05-17T08:06:20.516973Z"
    },
    "papermill": {
     "duration": 0.02141,
     "end_time": "2023-05-17T08:06:20.520970",
     "exception": false,
     "start_time": "2023-05-17T08:06:20.499560",
     "status": "completed"
    },
    "tags": []
   },
   "outputs": [],
   "source": [
    "def clean_text(test):\n",
    "    '''\n",
    "    Clean's up the unnecessary thiings of a text by replacing them with proper symbols.\n",
    "    '''\n",
    "    test = test.replace('<br/>', '')\n",
    "    test = test.replace('--', ' ')\n",
    "    test = test.replace(\"'\", '')\n",
    "    test = test.replace('\"','')\n",
    "    \n",
    "    return test"
   ]
  },
  {
   "cell_type": "code",
   "execution_count": 7,
   "id": "0b64d342",
   "metadata": {
    "execution": {
     "iopub.execute_input": "2023-05-17T08:06:20.544420Z",
     "iopub.status.busy": "2023-05-17T08:06:20.544039Z",
     "iopub.status.idle": "2023-05-17T08:06:20.549375Z",
     "shell.execute_reply": "2023-05-17T08:06:20.548215Z"
    },
    "papermill": {
     "duration": 0.020345,
     "end_time": "2023-05-17T08:06:20.551848",
     "exception": false,
     "start_time": "2023-05-17T08:06:20.531503",
     "status": "completed"
    },
    "tags": []
   },
   "outputs": [],
   "source": [
    "test_li = df.review"
   ]
  },
  {
   "cell_type": "code",
   "execution_count": 8,
   "id": "6f87e1e8",
   "metadata": {
    "execution": {
     "iopub.execute_input": "2023-05-17T08:06:20.575965Z",
     "iopub.status.busy": "2023-05-17T08:06:20.574594Z",
     "iopub.status.idle": "2023-05-17T08:06:20.584142Z",
     "shell.execute_reply": "2023-05-17T08:06:20.583272Z"
    },
    "papermill": {
     "duration": 0.023853,
     "end_time": "2023-05-17T08:06:20.586458",
     "exception": false,
     "start_time": "2023-05-17T08:06:20.562605",
     "status": "completed"
    },
    "tags": []
   },
   "outputs": [],
   "source": [
    "new_list = test_li.apply(clean_text)"
   ]
  },
  {
   "cell_type": "code",
   "execution_count": 9,
   "id": "c5e2b29d",
   "metadata": {
    "execution": {
     "iopub.execute_input": "2023-05-17T08:06:20.611352Z",
     "iopub.status.busy": "2023-05-17T08:06:20.610240Z",
     "iopub.status.idle": "2023-05-17T08:06:20.617088Z",
     "shell.execute_reply": "2023-05-17T08:06:20.616286Z"
    },
    "papermill": {
     "duration": 0.022068,
     "end_time": "2023-05-17T08:06:20.619630",
     "exception": false,
     "start_time": "2023-05-17T08:06:20.597562",
     "status": "completed"
    },
    "tags": []
   },
   "outputs": [
    {
     "data": {
      "text/plain": [
       "'I asked my co-workers to recommend a Bollywood movie. I expected Dumb and Dumber by the title. It wasnt that at all. It is more of an inspirational comedy with some serious but good messages. A more accurate title would have been The Legend of Rancho.Odd to me is that they speak in part English, part Hindi through the movie, kinda like some speak Spanglish here I suppose. I know none of the actors but the acting was good, and there was plenty of humor. The characters were believable. Most movie dancing I find a little silly but I even liked the dancing routines in the bathroom.I will be asking my co-workers for more recommendations after this one!'"
      ]
     },
     "execution_count": 9,
     "metadata": {},
     "output_type": "execute_result"
    }
   ],
   "source": [
    "new_list[1]"
   ]
  },
  {
   "cell_type": "code",
   "execution_count": 10,
   "id": "74879f3c",
   "metadata": {
    "execution": {
     "iopub.execute_input": "2023-05-17T08:06:20.643761Z",
     "iopub.status.busy": "2023-05-17T08:06:20.643071Z",
     "iopub.status.idle": "2023-05-17T08:06:20.655263Z",
     "shell.execute_reply": "2023-05-17T08:06:20.654222Z"
    },
    "papermill": {
     "duration": 0.027257,
     "end_time": "2023-05-17T08:06:20.657938",
     "exception": false,
     "start_time": "2023-05-17T08:06:20.630681",
     "status": "completed"
    },
    "tags": []
   },
   "outputs": [
    {
     "data": {
      "text/html": [
       "<div>\n",
       "<style scoped>\n",
       "    .dataframe tbody tr th:only-of-type {\n",
       "        vertical-align: middle;\n",
       "    }\n",
       "\n",
       "    .dataframe tbody tr th {\n",
       "        vertical-align: top;\n",
       "    }\n",
       "\n",
       "    .dataframe thead th {\n",
       "        text-align: right;\n",
       "    }\n",
       "</style>\n",
       "<table border=\"1\" class=\"dataframe\">\n",
       "  <thead>\n",
       "    <tr style=\"text-align: right;\">\n",
       "      <th></th>\n",
       "      <th>username</th>\n",
       "      <th>rating</th>\n",
       "      <th>helpful</th>\n",
       "      <th>total</th>\n",
       "      <th>date</th>\n",
       "      <th>title</th>\n",
       "      <th>review</th>\n",
       "    </tr>\n",
       "  </thead>\n",
       "  <tbody>\n",
       "    <tr>\n",
       "      <th>0</th>\n",
       "      <td>MartinHafer</td>\n",
       "      <td>10</td>\n",
       "      <td>264</td>\n",
       "      <td>313</td>\n",
       "      <td>2 June 2011</td>\n",
       "      <td>Wonderfully entertaining.\\n</td>\n",
       "      <td>It's hard for me to review this film, as I hav...</td>\n",
       "    </tr>\n",
       "    <tr>\n",
       "      <th>1</th>\n",
       "      <td>reedcom</td>\n",
       "      <td>9</td>\n",
       "      <td>350</td>\n",
       "      <td>423</td>\n",
       "      <td>20 November 2011</td>\n",
       "      <td>Wow this American loves this movie\\n</td>\n",
       "      <td>I asked my co-workers to recommend a Bollywood...</td>\n",
       "    </tr>\n",
       "  </tbody>\n",
       "</table>\n",
       "</div>"
      ],
      "text/plain": [
       "      username rating  helpful  total              date  \\\n",
       "0  MartinHafer     10      264    313       2 June 2011   \n",
       "1      reedcom      9      350    423  20 November 2011   \n",
       "\n",
       "                                   title  \\\n",
       "0            Wonderfully entertaining.\\n   \n",
       "1   Wow this American loves this movie\\n   \n",
       "\n",
       "                                              review  \n",
       "0  It's hard for me to review this film, as I hav...  \n",
       "1  I asked my co-workers to recommend a Bollywood...  "
      ]
     },
     "execution_count": 10,
     "metadata": {},
     "output_type": "execute_result"
    }
   ],
   "source": [
    "df.head(2)"
   ]
  },
  {
   "cell_type": "code",
   "execution_count": 11,
   "id": "aac7c59e",
   "metadata": {
    "execution": {
     "iopub.execute_input": "2023-05-17T08:06:20.681772Z",
     "iopub.status.busy": "2023-05-17T08:06:20.681350Z",
     "iopub.status.idle": "2023-05-17T08:06:20.686718Z",
     "shell.execute_reply": "2023-05-17T08:06:20.685680Z"
    },
    "papermill": {
     "duration": 0.019936,
     "end_time": "2023-05-17T08:06:20.688911",
     "exception": false,
     "start_time": "2023-05-17T08:06:20.668975",
     "status": "completed"
    },
    "tags": []
   },
   "outputs": [],
   "source": [
    "df.review = new_list"
   ]
  },
  {
   "cell_type": "code",
   "execution_count": 12,
   "id": "19e0c0df",
   "metadata": {
    "execution": {
     "iopub.execute_input": "2023-05-17T08:06:20.713058Z",
     "iopub.status.busy": "2023-05-17T08:06:20.712401Z",
     "iopub.status.idle": "2023-05-17T08:06:20.718798Z",
     "shell.execute_reply": "2023-05-17T08:06:20.717836Z"
    },
    "papermill": {
     "duration": 0.021059,
     "end_time": "2023-05-17T08:06:20.720993",
     "exception": false,
     "start_time": "2023-05-17T08:06:20.699934",
     "status": "completed"
    },
    "tags": []
   },
   "outputs": [
    {
     "data": {
      "text/plain": [
       "'I asked my co-workers to recommend a Bollywood movie. I expected Dumb and Dumber by the title. It wasnt that at all. It is more of an inspirational comedy with some serious but good messages. A more accurate title would have been The Legend of Rancho.Odd to me is that they speak in part English, part Hindi through the movie, kinda like some speak Spanglish here I suppose. I know none of the actors but the acting was good, and there was plenty of humor. The characters were believable. Most movie dancing I find a little silly but I even liked the dancing routines in the bathroom.I will be asking my co-workers for more recommendations after this one!'"
      ]
     },
     "execution_count": 12,
     "metadata": {},
     "output_type": "execute_result"
    }
   ],
   "source": [
    "df.review[1]"
   ]
  },
  {
   "cell_type": "code",
   "execution_count": 13,
   "id": "e9d91ced",
   "metadata": {
    "execution": {
     "iopub.execute_input": "2023-05-17T08:06:20.745380Z",
     "iopub.status.busy": "2023-05-17T08:06:20.744755Z",
     "iopub.status.idle": "2023-05-17T08:06:20.750707Z",
     "shell.execute_reply": "2023-05-17T08:06:20.749731Z"
    },
    "papermill": {
     "duration": 0.020977,
     "end_time": "2023-05-17T08:06:20.753090",
     "exception": false,
     "start_time": "2023-05-17T08:06:20.732113",
     "status": "completed"
    },
    "tags": []
   },
   "outputs": [
    {
     "data": {
      "text/plain": [
       "(600, 7)"
      ]
     },
     "execution_count": 13,
     "metadata": {},
     "output_type": "execute_result"
    }
   ],
   "source": [
    "df.shape"
   ]
  },
  {
   "cell_type": "code",
   "execution_count": 14,
   "id": "89448c61",
   "metadata": {
    "execution": {
     "iopub.execute_input": "2023-05-17T08:06:20.776931Z",
     "iopub.status.busy": "2023-05-17T08:06:20.776537Z",
     "iopub.status.idle": "2023-05-17T08:06:20.796306Z",
     "shell.execute_reply": "2023-05-17T08:06:20.795160Z"
    },
    "papermill": {
     "duration": 0.034311,
     "end_time": "2023-05-17T08:06:20.798482",
     "exception": false,
     "start_time": "2023-05-17T08:06:20.764171",
     "status": "completed"
    },
    "tags": []
   },
   "outputs": [
    {
     "data": {
      "text/html": [
       "<div>\n",
       "<style scoped>\n",
       "    .dataframe tbody tr th:only-of-type {\n",
       "        vertical-align: middle;\n",
       "    }\n",
       "\n",
       "    .dataframe tbody tr th {\n",
       "        vertical-align: top;\n",
       "    }\n",
       "\n",
       "    .dataframe thead th {\n",
       "        text-align: right;\n",
       "    }\n",
       "</style>\n",
       "<table border=\"1\" class=\"dataframe\">\n",
       "  <thead>\n",
       "    <tr style=\"text-align: right;\">\n",
       "      <th></th>\n",
       "      <th>rating</th>\n",
       "      <th>helpful</th>\n",
       "      <th>total</th>\n",
       "      <th>review</th>\n",
       "    </tr>\n",
       "  </thead>\n",
       "  <tbody>\n",
       "    <tr>\n",
       "      <th>0</th>\n",
       "      <td>10</td>\n",
       "      <td>264</td>\n",
       "      <td>313</td>\n",
       "      <td>Its hard for me to review this film, as I have...</td>\n",
       "    </tr>\n",
       "    <tr>\n",
       "      <th>1</th>\n",
       "      <td>9</td>\n",
       "      <td>350</td>\n",
       "      <td>423</td>\n",
       "      <td>I asked my co-workers to recommend a Bollywood...</td>\n",
       "    </tr>\n",
       "  </tbody>\n",
       "</table>\n",
       "</div>"
      ],
      "text/plain": [
       "  rating  helpful  total                                             review\n",
       "0     10      264    313  Its hard for me to review this film, as I have...\n",
       "1      9      350    423  I asked my co-workers to recommend a Bollywood..."
      ]
     },
     "execution_count": 14,
     "metadata": {},
     "output_type": "execute_result"
    }
   ],
   "source": [
    "df.drop(['date', 'title', 'username'], axis=1, inplace=True)\n",
    "df.head(2)"
   ]
  },
  {
   "cell_type": "code",
   "execution_count": 15,
   "id": "34a50926",
   "metadata": {
    "execution": {
     "iopub.execute_input": "2023-05-17T08:06:20.824175Z",
     "iopub.status.busy": "2023-05-17T08:06:20.823094Z",
     "iopub.status.idle": "2023-05-17T08:06:21.228066Z",
     "shell.execute_reply": "2023-05-17T08:06:21.226754Z"
    },
    "papermill": {
     "duration": 0.420187,
     "end_time": "2023-05-17T08:06:21.230540",
     "exception": false,
     "start_time": "2023-05-17T08:06:20.810353",
     "status": "completed"
    },
    "tags": []
   },
   "outputs": [
    {
     "data": {
      "text/plain": [
       "<AxesSubplot: title={'center': 'Rating count'}>"
      ]
     },
     "execution_count": 15,
     "metadata": {},
     "output_type": "execute_result"
    },
    {
     "data": {
      "image/png": "[encoded data removed]",
      "text/plain": [
       "<Figure size 640x480 with 1 Axes>"
      ]
     },
     "metadata": {},
     "output_type": "display_data"
    }
   ],
   "source": [
    "df.rating.value_counts().plot(kind='bar', cmap='winter', title='Rating count')"
   ]
  },
  {
   "cell_type": "code",
   "execution_count": 16,
   "id": "bcd6224d",
   "metadata": {
    "execution": {
     "iopub.execute_input": "2023-05-17T08:06:21.256623Z",
     "iopub.status.busy": "2023-05-17T08:06:21.255530Z",
     "iopub.status.idle": "2023-05-17T08:06:21.264344Z",
     "shell.execute_reply": "2023-05-17T08:06:21.263609Z"
    },
    "papermill": {
     "duration": 0.023994,
     "end_time": "2023-05-17T08:06:21.266337",
     "exception": false,
     "start_time": "2023-05-17T08:06:21.242343",
     "status": "completed"
    },
    "tags": []
   },
   "outputs": [
    {
     "data": {
      "text/plain": [
       "rating     0\n",
       "helpful    0\n",
       "total      0\n",
       "review     0\n",
       "dtype: int64"
      ]
     },
     "execution_count": 16,
     "metadata": {},
     "output_type": "execute_result"
    }
   ],
   "source": [
    "df.isna().sum()"
   ]
  },
  {
   "cell_type": "code",
   "execution_count": 17,
   "id": "bd5913b0",
   "metadata": {
    "execution": {
     "iopub.execute_input": "2023-05-17T08:06:21.291806Z",
     "iopub.status.busy": "2023-05-17T08:06:21.291036Z",
     "iopub.status.idle": "2023-05-17T08:06:21.312160Z",
     "shell.execute_reply": "2023-05-17T08:06:21.311199Z"
    },
    "papermill": {
     "duration": 0.036547,
     "end_time": "2023-05-17T08:06:21.314575",
     "exception": false,
     "start_time": "2023-05-17T08:06:21.278028",
     "status": "completed"
    },
    "tags": []
   },
   "outputs": [
    {
     "data": {
      "text/html": [
       "<div>\n",
       "<style scoped>\n",
       "    .dataframe tbody tr th:only-of-type {\n",
       "        vertical-align: middle;\n",
       "    }\n",
       "\n",
       "    .dataframe tbody tr th {\n",
       "        vertical-align: top;\n",
       "    }\n",
       "\n",
       "    .dataframe thead th {\n",
       "        text-align: right;\n",
       "    }\n",
       "</style>\n",
       "<table border=\"1\" class=\"dataframe\">\n",
       "  <thead>\n",
       "    <tr style=\"text-align: right;\">\n",
       "      <th></th>\n",
       "      <th>helpful</th>\n",
       "      <th>total</th>\n",
       "    </tr>\n",
       "  </thead>\n",
       "  <tbody>\n",
       "    <tr>\n",
       "      <th>count</th>\n",
       "      <td>600.000000</td>\n",
       "      <td>600.000000</td>\n",
       "    </tr>\n",
       "    <tr>\n",
       "      <th>mean</th>\n",
       "      <td>8.356667</td>\n",
       "      <td>16.280000</td>\n",
       "    </tr>\n",
       "    <tr>\n",
       "      <th>std</th>\n",
       "      <td>30.928095</td>\n",
       "      <td>46.398487</td>\n",
       "    </tr>\n",
       "    <tr>\n",
       "      <th>min</th>\n",
       "      <td>0.000000</td>\n",
       "      <td>0.000000</td>\n",
       "    </tr>\n",
       "    <tr>\n",
       "      <th>25%</th>\n",
       "      <td>0.000000</td>\n",
       "      <td>1.000000</td>\n",
       "    </tr>\n",
       "    <tr>\n",
       "      <th>50%</th>\n",
       "      <td>1.000000</td>\n",
       "      <td>3.000000</td>\n",
       "    </tr>\n",
       "    <tr>\n",
       "      <th>75%</th>\n",
       "      <td>4.250000</td>\n",
       "      <td>11.000000</td>\n",
       "    </tr>\n",
       "    <tr>\n",
       "      <th>max</th>\n",
       "      <td>350.000000</td>\n",
       "      <td>423.000000</td>\n",
       "    </tr>\n",
       "  </tbody>\n",
       "</table>\n",
       "</div>"
      ],
      "text/plain": [
       "          helpful       total\n",
       "count  600.000000  600.000000\n",
       "mean     8.356667   16.280000\n",
       "std     30.928095   46.398487\n",
       "min      0.000000    0.000000\n",
       "25%      0.000000    1.000000\n",
       "50%      1.000000    3.000000\n",
       "75%      4.250000   11.000000\n",
       "max    350.000000  423.000000"
      ]
     },
     "execution_count": 17,
     "metadata": {},
     "output_type": "execute_result"
    }
   ],
   "source": [
    "df.describe()"
   ]
  },
  {
   "cell_type": "code",
   "execution_count": 18,
   "id": "a4b9e7a5",
   "metadata": {
    "execution": {
     "iopub.execute_input": "2023-05-17T08:06:21.340520Z",
     "iopub.status.busy": "2023-05-17T08:06:21.340114Z",
     "iopub.status.idle": "2023-05-17T08:06:21.347938Z",
     "shell.execute_reply": "2023-05-17T08:06:21.347188Z"
    },
    "papermill": {
     "duration": 0.023457,
     "end_time": "2023-05-17T08:06:21.350173",
     "exception": false,
     "start_time": "2023-05-17T08:06:21.326716",
     "status": "completed"
    },
    "tags": []
   },
   "outputs": [
    {
     "data": {
      "text/plain": [
       "10      255\n",
       "9       116\n",
       "8        72\n",
       "7        36\n",
       "Null     34\n",
       "6        25\n",
       "1        21\n",
       "5        14\n",
       "3        11\n",
       "4         9\n",
       "2         7\n",
       "Name: rating, dtype: int64"
      ]
     },
     "execution_count": 18,
     "metadata": {},
     "output_type": "execute_result"
    }
   ],
   "source": [
    "df.rating.value_counts()"
   ]
  },
  {
   "cell_type": "code",
   "execution_count": 19,
   "id": "6e67c7ee",
   "metadata": {
    "execution": {
     "iopub.execute_input": "2023-05-17T08:06:21.376650Z",
     "iopub.status.busy": "2023-05-17T08:06:21.375958Z",
     "iopub.status.idle": "2023-05-17T08:06:21.383900Z",
     "shell.execute_reply": "2023-05-17T08:06:21.383120Z"
    },
    "papermill": {
     "duration": 0.023564,
     "end_time": "2023-05-17T08:06:21.385967",
     "exception": false,
     "start_time": "2023-05-17T08:06:21.362403",
     "status": "completed"
    },
    "tags": []
   },
   "outputs": [
    {
     "data": {
      "text/plain": [
       "rating     object\n",
       "helpful     int64\n",
       "total       int64\n",
       "review     object\n",
       "dtype: object"
      ]
     },
     "execution_count": 19,
     "metadata": {},
     "output_type": "execute_result"
    }
   ],
   "source": [
    "df.dtypes"
   ]
  },
  {
   "cell_type": "markdown",
   "id": "fb254458",
   "metadata": {
    "execution": {
     "iopub.execute_input": "2023-05-17T07:10:55.426928Z",
     "iopub.status.busy": "2023-05-17T07:10:55.426439Z",
     "iopub.status.idle": "2023-05-17T07:10:55.432592Z",
     "shell.execute_reply": "2023-05-17T07:10:55.431320Z",
     "shell.execute_reply.started": "2023-05-17T07:10:55.426890Z"
    },
    "papermill": {
     "duration": 0.012208,
     "end_time": "2023-05-17T08:06:21.410628",
     "exception": false,
     "start_time": "2023-05-17T08:06:21.398420",
     "status": "completed"
    },
    "tags": []
   },
   "source": [
    "## Now change the text to vector using `spaCy`"
   ]
  },
  {
   "cell_type": "code",
   "execution_count": 20,
   "id": "62f5f31c",
   "metadata": {
    "execution": {
     "iopub.execute_input": "2023-05-17T08:06:21.437652Z",
     "iopub.status.busy": "2023-05-17T08:06:21.437048Z",
     "iopub.status.idle": "2023-05-17T08:06:21.442652Z",
     "shell.execute_reply": "2023-05-17T08:06:21.441847Z"
    },
    "papermill": {
     "duration": 0.021455,
     "end_time": "2023-05-17T08:06:21.444632",
     "exception": false,
     "start_time": "2023-05-17T08:06:21.423177",
     "status": "completed"
    },
    "tags": []
   },
   "outputs": [
    {
     "data": {
      "text/plain": [
       "'I asked my co-workers to recommend a Bollywood movie. I expected Dumb and Dumber by the title. It wasnt that at all. It is more of an inspirational comedy with some serious but good messages. A more accurate title would have been The Legend of Rancho.Odd to me is that they speak in part English, part Hindi through the movie, kinda like some speak Spanglish here I suppose. I know none of the actors but the acting was good, and there was plenty of humor. The characters were believable. Most movie dancing I find a little silly but I even liked the dancing routines in the bathroom.I will be asking my co-workers for more recommendations after this one!'"
      ]
     },
     "execution_count": 20,
     "metadata": {},
     "output_type": "execute_result"
    }
   ],
   "source": [
    "df.review[1]"
   ]
  },
  {
   "cell_type": "code",
   "execution_count": 21,
   "id": "313c4f83",
   "metadata": {
    "execution": {
     "iopub.execute_input": "2023-05-17T08:06:21.472134Z",
     "iopub.status.busy": "2023-05-17T08:06:21.471570Z",
     "iopub.status.idle": "2023-05-17T08:06:35.692655Z",
     "shell.execute_reply": "2023-05-17T08:06:35.691508Z"
    },
    "papermill": {
     "duration": 14.237987,
     "end_time": "2023-05-17T08:06:35.695575",
     "exception": false,
     "start_time": "2023-05-17T08:06:21.457588",
     "status": "completed"
    },
    "tags": []
   },
   "outputs": [
    {
     "name": "stderr",
     "output_type": "stream",
     "text": [
      "/opt/conda/lib/python3.10/site-packages/scipy/__init__.py:146: UserWarning: A NumPy version >=1.16.5 and <1.23.0 is required for this version of SciPy (detected version 1.23.5\n",
      "  warnings.warn(f\"A NumPy version >={np_minversion} and <{np_maxversion}\"\n"
     ]
    }
   ],
   "source": [
    "import spacy"
   ]
  },
  {
   "cell_type": "code",
   "execution_count": 22,
   "id": "6ee3d3db",
   "metadata": {
    "execution": {
     "iopub.execute_input": "2023-05-17T08:06:35.723530Z",
     "iopub.status.busy": "2023-05-17T08:06:35.722738Z",
     "iopub.status.idle": "2023-05-17T08:06:37.312247Z",
     "shell.execute_reply": "2023-05-17T08:06:37.310659Z"
    },
    "papermill": {
     "duration": 1.606404,
     "end_time": "2023-05-17T08:06:37.315020",
     "exception": false,
     "start_time": "2023-05-17T08:06:35.708616",
     "status": "completed"
    },
    "tags": []
   },
   "outputs": [
    {
     "name": "stdout",
     "output_type": "stream",
     "text": [
      "My girlfriend is Dr. Tareen.\n",
      "She loves to eat burger.\n"
     ]
    }
   ],
   "source": [
    "np.random.seed(42)\n",
    "\n",
    "nlp = spacy.load(\"en_core_web_sm\")\n",
    "\n",
    "doc = nlp(\"My girlfriend is Dr. Tareen. She loves to eat burger.\")\n",
    "\n",
    "for sentence in doc.sents:\n",
    "    print(sentence)"
   ]
  },
  {
   "cell_type": "code",
   "execution_count": 23,
   "id": "3d02cc06",
   "metadata": {
    "execution": {
     "iopub.execute_input": "2023-05-17T08:06:37.342539Z",
     "iopub.status.busy": "2023-05-17T08:06:37.342101Z",
     "iopub.status.idle": "2023-05-17T08:06:37.348594Z",
     "shell.execute_reply": "2023-05-17T08:06:37.347407Z"
    },
    "papermill": {
     "duration": 0.022923,
     "end_time": "2023-05-17T08:06:37.350920",
     "exception": false,
     "start_time": "2023-05-17T08:06:37.327997",
     "status": "completed"
    },
    "tags": []
   },
   "outputs": [
    {
     "name": "stdout",
     "output_type": "stream",
     "text": [
      "My\n",
      "girlfriend\n",
      "is\n",
      "Dr.\n",
      "Tareen\n",
      ".\n",
      "She\n",
      "loves\n",
      "to\n",
      "eat\n",
      "burger\n",
      ".\n"
     ]
    }
   ],
   "source": [
    "for sentence in doc.sents:\n",
    "    for word in sentence:\n",
    "        print(word, end='\\n')"
   ]
  },
  {
   "cell_type": "markdown",
   "id": "476b9869",
   "metadata": {
    "papermill": {
     "duration": 0.012422,
     "end_time": "2023-05-17T08:06:37.376184",
     "exception": false,
     "start_time": "2023-05-17T08:06:37.363762",
     "status": "completed"
    },
    "tags": []
   },
   "source": [
    "### Write a function to convert the paragraph to sentence."
   ]
  },
  {
   "cell_type": "code",
   "execution_count": 24,
   "id": "e29581d8",
   "metadata": {
    "execution": {
     "iopub.execute_input": "2023-05-17T08:06:37.404313Z",
     "iopub.status.busy": "2023-05-17T08:06:37.403929Z",
     "iopub.status.idle": "2023-05-17T08:06:37.409431Z",
     "shell.execute_reply": "2023-05-17T08:06:37.408313Z"
    },
    "papermill": {
     "duration": 0.022373,
     "end_time": "2023-05-17T08:06:37.411775",
     "exception": false,
     "start_time": "2023-05-17T08:06:37.389402",
     "status": "completed"
    },
    "tags": []
   },
   "outputs": [],
   "source": [
    "def to_sentence(para):\n",
    "    '''\n",
    "    Converts the given paragraph to sentences.\n",
    "    '''\n",
    "    doc = nlp(para)\n",
    "    for sentence in doc.sents:\n",
    "        print(sentence)\n",
    "    "
   ]
  },
  {
   "cell_type": "code",
   "execution_count": 25,
   "id": "ce3c7e46",
   "metadata": {
    "execution": {
     "iopub.execute_input": "2023-05-17T08:06:37.439237Z",
     "iopub.status.busy": "2023-05-17T08:06:37.438550Z",
     "iopub.status.idle": "2023-05-17T08:06:37.487657Z",
     "shell.execute_reply": "2023-05-17T08:06:37.486315Z"
    },
    "papermill": {
     "duration": 0.065643,
     "end_time": "2023-05-17T08:06:37.490238",
     "exception": false,
     "start_time": "2023-05-17T08:06:37.424595",
     "status": "completed"
    },
    "tags": []
   },
   "outputs": [
    {
     "name": "stdout",
     "output_type": "stream",
     "text": [
      "I asked my co-workers to recommend a Bollywood movie.\n",
      "I expected Dumb and Dumber by the title.\n",
      "It wasnt that at all.\n",
      "It is more of an inspirational comedy with some serious but good messages.\n",
      "A more accurate title would have been The Legend of Rancho.\n",
      "Odd to me is that they speak in part English, part Hindi through the movie, kinda like some speak Spanglish here I suppose.\n",
      "I know none of the actors but the acting was good, and there was plenty of humor.\n",
      "The characters were believable.\n",
      "Most movie dancing I find a little silly\n",
      "but I even liked the dancing routines in the bathroom.\n",
      "I will be asking my co-workers for more recommendations after this one!\n"
     ]
    }
   ],
   "source": [
    "to_sentence(df.review[1])"
   ]
  },
  {
   "cell_type": "code",
   "execution_count": null,
   "id": "87c84ee2",
   "metadata": {
    "papermill": {
     "duration": 0.013013,
     "end_time": "2023-05-17T08:06:37.516656",
     "exception": false,
     "start_time": "2023-05-17T08:06:37.503643",
     "status": "completed"
    },
    "tags": []
   },
   "outputs": [],
   "source": []
  }
 ],
 "metadata": {
  "kernelspec": {
   "display_name": "Python 3",
   "language": "python",
   "name": "python3"
  },
  "language_info": {
   "codemirror_mode": {
    "name": "ipython",
    "version": 3
   },
   "file_extension": ".py",
   "mimetype": "text/x-python",
   "name": "python",
   "nbconvert_exporter": "python",
   "pygments_lexer": "ipython3",
   "version": "3.10.10"
  },
  "papermill": {
   "default_parameters": {},
   "duration": 32.734761,
   "end_time": "2023-05-17T08:06:40.627381",
   "environment_variables": {},
   "exception": null,
   "input_path": "__notebook__.ipynb",
   "output_path": "__notebook__.ipynb",
   "parameters": {},
   "start_time": "2023-05-17T08:06:07.892620",
   "version": "2.4.0"
  }
 },
 "nbformat": 4,
 "nbformat_minor": 5
}
